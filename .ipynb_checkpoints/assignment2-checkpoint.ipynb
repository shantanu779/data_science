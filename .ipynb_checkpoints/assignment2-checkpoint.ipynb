{
 "cells": [
  {
   "cell_type": "code",
   "execution_count": 1,
   "id": "c295a90f",
   "metadata": {},
   "outputs": [],
   "source": [
    "#assignment2 \n",
    "import pandas as pd"
   ]
  },
  {
   "cell_type": "code",
   "execution_count": 2,
   "id": "a23246c8",
   "metadata": {},
   "outputs": [],
   "source": [
    "Records='/Users/shantanuveni/Downloads/DataSet/heart_failure_clinical_records_dataset.csv'\n",
    "Rd = pd.read_csv(Records, encoding='ISO-8859-1',sep=',', decimal='.')\n"
   ]
  },
  {
   "cell_type": "code",
   "execution_count": null,
   "id": "5618cd9d",
   "metadata": {},
   "outputs": [],
   "source": []
  }
 ],
 "metadata": {
  "kernelspec": {
   "display_name": "Python 3",
   "language": "python",
   "name": "python3"
  },
  "language_info": {
   "codemirror_mode": {
    "name": "ipython",
    "version": 3
   },
   "file_extension": ".py",
   "mimetype": "text/x-python",
   "name": "python",
   "nbconvert_exporter": "python",
   "pygments_lexer": "ipython3",
   "version": "3.8.5"
  }
 },
 "nbformat": 4,
 "nbformat_minor": 5
}
