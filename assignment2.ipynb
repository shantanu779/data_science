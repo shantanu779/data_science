{
 "cells": [
  {
   "cell_type": "code",
   "execution_count": 1,
   "id": "c295a90f",
   "metadata": {},
   "outputs": [],
   "source": [
    "#assignment2 \n",
    "import pandas as pd"
   ]
  },
  {
   "cell_type": "code",
   "execution_count": 2,
   "id": "a23246c8",
   "metadata": {},
   "outputs": [],
   "source": [
    "Records='heart_failure_clinical_records_dataset.csv'\n",
    "Rd = pd.read_csv(Records, encoding='ISO-8859-1',sep=',', decimal='.')\n"
   ]
  },
  {
   "cell_type": "code",
   "execution_count": 3,
   "id": "5618cd9d",
   "metadata": {},
   "outputs": [
    {
     "data": {
      "text/plain": [
       "(299, 13)"
      ]
     },
     "execution_count": 3,
     "metadata": {},
     "output_type": "execute_result"
    }
   ],
   "source": [
    "Rd.shape"
   ]
  },
  {
   "cell_type": "raw",
   "id": "1105cca6",
   "metadata": {},
   "source": []
  },
  {
   "cell_type": "code",
   "execution_count": 4,
   "id": "448aa247",
   "metadata": {},
   "outputs": [
    {
     "data": {
      "text/plain": [
       "age                         float64\n",
       "anaemia                       int64\n",
       "creatinine_phosphokinase      int64\n",
       "diabetes                      int64\n",
       "ejection_fraction             int64\n",
       "high_blood_pressure           int64\n",
       "platelets                   float64\n",
       "serum_creatinine            float64\n",
       "serum_sodium                  int64\n",
       "sex                           int64\n",
       "smoking                       int64\n",
       "time                          int64\n",
       "DEATH_EVENT                   int64\n",
       "dtype: object"
      ]
     },
     "execution_count": 4,
     "metadata": {},
     "output_type": "execute_result"
    }
   ],
   "source": [
    "Rd.dtypes"
   ]
  },
  {
   "cell_type": "code",
   "execution_count": 5,
   "id": "16418b39",
   "metadata": {},
   "outputs": [
    {
     "data": {
      "text/html": [
       "<div>\n",
       "<style scoped>\n",
       "    .dataframe tbody tr th:only-of-type {\n",
       "        vertical-align: middle;\n",
       "    }\n",
       "\n",
       "    .dataframe tbody tr th {\n",
       "        vertical-align: top;\n",
       "    }\n",
       "\n",
       "    .dataframe thead th {\n",
       "        text-align: right;\n",
       "    }\n",
       "</style>\n",
       "<table border=\"1\" class=\"dataframe\">\n",
       "  <thead>\n",
       "    <tr style=\"text-align: right;\">\n",
       "      <th></th>\n",
       "      <th>age</th>\n",
       "      <th>anaemia</th>\n",
       "      <th>creatinine_phosphokinase</th>\n",
       "      <th>diabetes</th>\n",
       "      <th>ejection_fraction</th>\n",
       "      <th>high_blood_pressure</th>\n",
       "      <th>platelets</th>\n",
       "      <th>serum_creatinine</th>\n",
       "      <th>serum_sodium</th>\n",
       "      <th>sex</th>\n",
       "      <th>smoking</th>\n",
       "      <th>time</th>\n",
       "      <th>DEATH_EVENT</th>\n",
       "    </tr>\n",
       "  </thead>\n",
       "  <tbody>\n",
       "    <tr>\n",
       "      <th>0</th>\n",
       "      <td>75.0</td>\n",
       "      <td>0</td>\n",
       "      <td>582</td>\n",
       "      <td>0</td>\n",
       "      <td>20</td>\n",
       "      <td>1</td>\n",
       "      <td>265000.00</td>\n",
       "      <td>1.9</td>\n",
       "      <td>130</td>\n",
       "      <td>1</td>\n",
       "      <td>0</td>\n",
       "      <td>4</td>\n",
       "      <td>1</td>\n",
       "    </tr>\n",
       "    <tr>\n",
       "      <th>1</th>\n",
       "      <td>55.0</td>\n",
       "      <td>0</td>\n",
       "      <td>7861</td>\n",
       "      <td>0</td>\n",
       "      <td>38</td>\n",
       "      <td>0</td>\n",
       "      <td>263358.03</td>\n",
       "      <td>1.1</td>\n",
       "      <td>136</td>\n",
       "      <td>1</td>\n",
       "      <td>0</td>\n",
       "      <td>6</td>\n",
       "      <td>1</td>\n",
       "    </tr>\n",
       "    <tr>\n",
       "      <th>2</th>\n",
       "      <td>65.0</td>\n",
       "      <td>0</td>\n",
       "      <td>146</td>\n",
       "      <td>0</td>\n",
       "      <td>20</td>\n",
       "      <td>0</td>\n",
       "      <td>162000.00</td>\n",
       "      <td>1.3</td>\n",
       "      <td>129</td>\n",
       "      <td>1</td>\n",
       "      <td>1</td>\n",
       "      <td>7</td>\n",
       "      <td>1</td>\n",
       "    </tr>\n",
       "    <tr>\n",
       "      <th>3</th>\n",
       "      <td>50.0</td>\n",
       "      <td>1</td>\n",
       "      <td>111</td>\n",
       "      <td>0</td>\n",
       "      <td>20</td>\n",
       "      <td>0</td>\n",
       "      <td>210000.00</td>\n",
       "      <td>1.9</td>\n",
       "      <td>137</td>\n",
       "      <td>1</td>\n",
       "      <td>0</td>\n",
       "      <td>7</td>\n",
       "      <td>1</td>\n",
       "    </tr>\n",
       "    <tr>\n",
       "      <th>4</th>\n",
       "      <td>65.0</td>\n",
       "      <td>1</td>\n",
       "      <td>160</td>\n",
       "      <td>1</td>\n",
       "      <td>20</td>\n",
       "      <td>0</td>\n",
       "      <td>327000.00</td>\n",
       "      <td>2.7</td>\n",
       "      <td>116</td>\n",
       "      <td>0</td>\n",
       "      <td>0</td>\n",
       "      <td>8</td>\n",
       "      <td>1</td>\n",
       "    </tr>\n",
       "    <tr>\n",
       "      <th>...</th>\n",
       "      <td>...</td>\n",
       "      <td>...</td>\n",
       "      <td>...</td>\n",
       "      <td>...</td>\n",
       "      <td>...</td>\n",
       "      <td>...</td>\n",
       "      <td>...</td>\n",
       "      <td>...</td>\n",
       "      <td>...</td>\n",
       "      <td>...</td>\n",
       "      <td>...</td>\n",
       "      <td>...</td>\n",
       "      <td>...</td>\n",
       "    </tr>\n",
       "    <tr>\n",
       "      <th>294</th>\n",
       "      <td>62.0</td>\n",
       "      <td>0</td>\n",
       "      <td>61</td>\n",
       "      <td>1</td>\n",
       "      <td>38</td>\n",
       "      <td>1</td>\n",
       "      <td>155000.00</td>\n",
       "      <td>1.1</td>\n",
       "      <td>143</td>\n",
       "      <td>1</td>\n",
       "      <td>1</td>\n",
       "      <td>270</td>\n",
       "      <td>0</td>\n",
       "    </tr>\n",
       "    <tr>\n",
       "      <th>295</th>\n",
       "      <td>55.0</td>\n",
       "      <td>0</td>\n",
       "      <td>1820</td>\n",
       "      <td>0</td>\n",
       "      <td>38</td>\n",
       "      <td>0</td>\n",
       "      <td>270000.00</td>\n",
       "      <td>1.2</td>\n",
       "      <td>139</td>\n",
       "      <td>0</td>\n",
       "      <td>0</td>\n",
       "      <td>271</td>\n",
       "      <td>0</td>\n",
       "    </tr>\n",
       "    <tr>\n",
       "      <th>296</th>\n",
       "      <td>45.0</td>\n",
       "      <td>0</td>\n",
       "      <td>2060</td>\n",
       "      <td>1</td>\n",
       "      <td>60</td>\n",
       "      <td>0</td>\n",
       "      <td>742000.00</td>\n",
       "      <td>0.8</td>\n",
       "      <td>138</td>\n",
       "      <td>0</td>\n",
       "      <td>0</td>\n",
       "      <td>278</td>\n",
       "      <td>0</td>\n",
       "    </tr>\n",
       "    <tr>\n",
       "      <th>297</th>\n",
       "      <td>45.0</td>\n",
       "      <td>0</td>\n",
       "      <td>2413</td>\n",
       "      <td>0</td>\n",
       "      <td>38</td>\n",
       "      <td>0</td>\n",
       "      <td>140000.00</td>\n",
       "      <td>1.4</td>\n",
       "      <td>140</td>\n",
       "      <td>1</td>\n",
       "      <td>1</td>\n",
       "      <td>280</td>\n",
       "      <td>0</td>\n",
       "    </tr>\n",
       "    <tr>\n",
       "      <th>298</th>\n",
       "      <td>50.0</td>\n",
       "      <td>0</td>\n",
       "      <td>196</td>\n",
       "      <td>0</td>\n",
       "      <td>45</td>\n",
       "      <td>0</td>\n",
       "      <td>395000.00</td>\n",
       "      <td>1.6</td>\n",
       "      <td>136</td>\n",
       "      <td>1</td>\n",
       "      <td>1</td>\n",
       "      <td>285</td>\n",
       "      <td>0</td>\n",
       "    </tr>\n",
       "  </tbody>\n",
       "</table>\n",
       "<p>299 rows × 13 columns</p>\n",
       "</div>"
      ],
      "text/plain": [
       "      age  anaemia  creatinine_phosphokinase  diabetes  ejection_fraction  \\\n",
       "0    75.0        0                       582         0                 20   \n",
       "1    55.0        0                      7861         0                 38   \n",
       "2    65.0        0                       146         0                 20   \n",
       "3    50.0        1                       111         0                 20   \n",
       "4    65.0        1                       160         1                 20   \n",
       "..    ...      ...                       ...       ...                ...   \n",
       "294  62.0        0                        61         1                 38   \n",
       "295  55.0        0                      1820         0                 38   \n",
       "296  45.0        0                      2060         1                 60   \n",
       "297  45.0        0                      2413         0                 38   \n",
       "298  50.0        0                       196         0                 45   \n",
       "\n",
       "     high_blood_pressure  platelets  serum_creatinine  serum_sodium  sex  \\\n",
       "0                      1  265000.00               1.9           130    1   \n",
       "1                      0  263358.03               1.1           136    1   \n",
       "2                      0  162000.00               1.3           129    1   \n",
       "3                      0  210000.00               1.9           137    1   \n",
       "4                      0  327000.00               2.7           116    0   \n",
       "..                   ...        ...               ...           ...  ...   \n",
       "294                    1  155000.00               1.1           143    1   \n",
       "295                    0  270000.00               1.2           139    0   \n",
       "296                    0  742000.00               0.8           138    0   \n",
       "297                    0  140000.00               1.4           140    1   \n",
       "298                    0  395000.00               1.6           136    1   \n",
       "\n",
       "     smoking  time  DEATH_EVENT  \n",
       "0          0     4            1  \n",
       "1          0     6            1  \n",
       "2          1     7            1  \n",
       "3          0     7            1  \n",
       "4          0     8            1  \n",
       "..       ...   ...          ...  \n",
       "294        1   270            0  \n",
       "295        0   271            0  \n",
       "296        0   278            0  \n",
       "297        1   280            0  \n",
       "298        1   285            0  \n",
       "\n",
       "[299 rows x 13 columns]"
      ]
     },
     "execution_count": 5,
     "metadata": {},
     "output_type": "execute_result"
    }
   ],
   "source": [
    "Rd.head(300)"
   ]
  },
  {
   "cell_type": "code",
   "execution_count": 6,
   "id": "d3b905d6",
   "metadata": {},
   "outputs": [
    {
     "name": "stdout",
     "output_type": "stream",
     "text": [
      "0    203\n",
      "1     96\n",
      "Name: DEATH_EVENT, dtype: int64\n"
     ]
    }
   ],
   "source": [
    "print(Rd['DEATH_EVENT'].value_counts())"
   ]
  },
  {
   "cell_type": "code",
   "execution_count": 7,
   "id": "874d537a",
   "metadata": {},
   "outputs": [
    {
     "name": "stdout",
     "output_type": "stream",
     "text": [
      "250    7\n",
      "187    7\n",
      "10     6\n",
      "186    6\n",
      "107    6\n",
      "      ..\n",
      "97     1\n",
      "96     1\n",
      "86     1\n",
      "77     1\n",
      "285    1\n",
      "Name: time, Length: 148, dtype: int64\n"
     ]
    }
   ],
   "source": [
    "print(Rd['time'].value_counts())"
   ]
  },
  {
   "cell_type": "code",
   "execution_count": 8,
   "id": "e2aa6a94",
   "metadata": {},
   "outputs": [
    {
     "name": "stdout",
     "output_type": "stream",
     "text": [
      "0    203\n",
      "1     96\n",
      "Name: smoking, dtype: int64\n"
     ]
    }
   ],
   "source": [
    "print(Rd['smoking'].value_counts())"
   ]
  },
  {
   "cell_type": "code",
   "execution_count": 9,
   "id": "53086106",
   "metadata": {},
   "outputs": [
    {
     "name": "stdout",
     "output_type": "stream",
     "text": [
      "1    194\n",
      "0    105\n",
      "Name: sex, dtype: int64\n"
     ]
    }
   ],
   "source": [
    "print(Rd['sex'].value_counts())"
   ]
  },
  {
   "cell_type": "code",
   "execution_count": 10,
   "id": "f5bbce5b",
   "metadata": {},
   "outputs": [
    {
     "name": "stdout",
     "output_type": "stream",
     "text": [
      "136    40\n",
      "137    38\n",
      "140    35\n",
      "134    32\n",
      "138    23\n",
      "139    22\n",
      "135    16\n",
      "132    14\n",
      "141    12\n",
      "142    11\n",
      "133    10\n",
      "130     9\n",
      "145     9\n",
      "144     5\n",
      "131     5\n",
      "143     3\n",
      "127     3\n",
      "128     2\n",
      "129     2\n",
      "146     1\n",
      "113     1\n",
      "116     1\n",
      "126     1\n",
      "125     1\n",
      "124     1\n",
      "121     1\n",
      "148     1\n",
      "Name: serum_sodium, dtype: int64\n"
     ]
    }
   ],
   "source": [
    "print(Rd['serum_sodium'].value_counts())"
   ]
  },
  {
   "cell_type": "code",
   "execution_count": 11,
   "id": "1bb4b151",
   "metadata": {},
   "outputs": [
    {
     "name": "stdout",
     "output_type": "stream",
     "text": [
      "1.00    50\n",
      "1.10    32\n",
      "0.90    32\n",
      "0.80    24\n",
      "1.20    24\n",
      "1.30    20\n",
      "0.70    19\n",
      "1.18    11\n",
      "1.70     9\n",
      "1.40     9\n",
      "1.83     8\n",
      "1.60     6\n",
      "2.10     5\n",
      "1.90     5\n",
      "1.50     5\n",
      "1.80     4\n",
      "0.60     4\n",
      "2.30     3\n",
      "2.70     3\n",
      "2.50     3\n",
      "3.50     2\n",
      "3.00     2\n",
      "2.40     2\n",
      "3.80     1\n",
      "0.75     1\n",
      "3.20     1\n",
      "9.40     1\n",
      "4.00     1\n",
      "0.50     1\n",
      "6.10     1\n",
      "4.40     1\n",
      "3.70     1\n",
      "2.90     1\n",
      "9.00     1\n",
      "5.00     1\n",
      "6.80     1\n",
      "3.40     1\n",
      "2.20     1\n",
      "5.80     1\n",
      "2.00     1\n",
      "Name: serum_creatinine, dtype: int64\n"
     ]
    }
   ],
   "source": [
    "print(Rd['serum_creatinine'].value_counts())"
   ]
  },
  {
   "cell_type": "code",
   "execution_count": 12,
   "id": "4b66f5a4",
   "metadata": {},
   "outputs": [
    {
     "name": "stdout",
     "output_type": "stream",
     "text": [
      "263358.03    25\n",
      "228000.00     4\n",
      "226000.00     4\n",
      "235000.00     4\n",
      "255000.00     4\n",
      "             ..\n",
      "448000.00     1\n",
      "337000.00     1\n",
      "229000.00     1\n",
      "358000.00     1\n",
      "310000.00     1\n",
      "Name: platelets, Length: 176, dtype: int64\n"
     ]
    }
   ],
   "source": [
    "print(Rd['platelets'].value_counts())"
   ]
  },
  {
   "cell_type": "code",
   "execution_count": 13,
   "id": "c28f3327",
   "metadata": {},
   "outputs": [
    {
     "name": "stdout",
     "output_type": "stream",
     "text": [
      "850000.0\n"
     ]
    }
   ],
   "source": [
    "print(Rd['platelets'].max())"
   ]
  },
  {
   "cell_type": "code",
   "execution_count": 14,
   "id": "ec20e7a2",
   "metadata": {},
   "outputs": [
    {
     "name": "stdout",
     "output_type": "stream",
     "text": [
      "25100.0\n"
     ]
    }
   ],
   "source": [
    "print(Rd['platelets'].min())"
   ]
  },
  {
   "cell_type": "code",
   "execution_count": 15,
   "id": "59920a20",
   "metadata": {},
   "outputs": [
    {
     "name": "stdout",
     "output_type": "stream",
     "text": [
      "9.4\n"
     ]
    }
   ],
   "source": [
    "print(Rd['serum_creatinine'].max())"
   ]
  },
  {
   "cell_type": "code",
   "execution_count": 16,
   "id": "b88eb712",
   "metadata": {},
   "outputs": [
    {
     "name": "stdout",
     "output_type": "stream",
     "text": [
      "0.5\n"
     ]
    }
   ],
   "source": [
    "print(Rd['serum_creatinine'].min())"
   ]
  },
  {
   "cell_type": "code",
   "execution_count": 17,
   "id": "d5cd0a30",
   "metadata": {},
   "outputs": [
    {
     "name": "stdout",
     "output_type": "stream",
     "text": [
      "113\n"
     ]
    }
   ],
   "source": [
    "print(Rd['serum_sodium'].min())"
   ]
  },
  {
   "cell_type": "code",
   "execution_count": 18,
   "id": "b065ccf0",
   "metadata": {},
   "outputs": [
    {
     "name": "stdout",
     "output_type": "stream",
     "text": [
      "148\n"
     ]
    }
   ],
   "source": [
    "print(Rd['serum_sodium'].max())"
   ]
  },
  {
   "cell_type": "code",
   "execution_count": 19,
   "id": "afa980db",
   "metadata": {},
   "outputs": [
    {
     "name": "stdout",
     "output_type": "stream",
     "text": [
      "285\n",
      "4\n"
     ]
    }
   ],
   "source": [
    "print(Rd['time'].max())\n",
    "print(Rd['time'].min())"
   ]
  },
  {
   "cell_type": "code",
   "execution_count": 20,
   "id": "ce7734f3",
   "metadata": {},
   "outputs": [
    {
     "data": {
      "text/plain": [
       "age                         float64\n",
       "anaemia                       int64\n",
       "creatinine_phosphokinase      int64\n",
       "diabetes                      int64\n",
       "ejection_fraction             int64\n",
       "high_blood_pressure           int64\n",
       "platelets                   float64\n",
       "serum_creatinine            float64\n",
       "serum_sodium                  int64\n",
       "sex                           int64\n",
       "smoking                       int64\n",
       "time                          int64\n",
       "DEATH_EVENT                   int64\n",
       "dtype: object"
      ]
     },
     "execution_count": 20,
     "metadata": {},
     "output_type": "execute_result"
    }
   ],
   "source": [
    "Rd.dtypes"
   ]
  },
  {
   "cell_type": "code",
   "execution_count": 21,
   "id": "583c3e49",
   "metadata": {},
   "outputs": [
    {
     "name": "stdout",
     "output_type": "stream",
     "text": [
      "263.36    25\n",
      "255.00     4\n",
      "237.00     4\n",
      "271.00     4\n",
      "228.00     4\n",
      "          ..\n",
      "155.00     1\n",
      "257.00     1\n",
      "309.00     1\n",
      "461.00     1\n",
      "336.00     1\n",
      "Name: platelets, Length: 176, dtype: int64\n"
     ]
    }
   ],
   "source": [
    "Rd['platelets']=Rd['platelets'].div(1000).round(2)\n",
    "print(Rd['platelets'].value_counts())\n"
   ]
  },
  {
   "cell_type": "code",
   "execution_count": 22,
   "id": "3ce3e3ac",
   "metadata": {},
   "outputs": [
    {
     "name": "stdout",
     "output_type": "stream",
     "text": [
      "850.0\n",
      "25.1\n"
     ]
    }
   ],
   "source": [
    "print(Rd['platelets'].max())\n",
    "print(Rd['platelets'].min())"
   ]
  },
  {
   "cell_type": "code",
   "execution_count": 23,
   "id": "88197e3c",
   "metadata": {},
   "outputs": [
    {
     "name": "stdout",
     "output_type": "stream",
     "text": [
      "male      194\n",
      "female    105\n",
      "Name: gender, dtype: int64\n"
     ]
    }
   ],
   "source": [
    "Rd['gender']=Rd['sex']\n",
    "Rd['gender']=Rd['gender'].apply(str)\n",
    "Rd.gender.replace({'1':'male','0':'female'},inplace=True)   \n",
    "print(Rd['gender'].value_counts())"
   ]
  },
  {
   "cell_type": "code",
   "execution_count": 24,
   "id": "05617632",
   "metadata": {},
   "outputs": [
    {
     "name": "stdout",
     "output_type": "stream",
     "text": [
      "No     203\n",
      "Yes     96\n",
      "Name: smoking_1, dtype: int64\n"
     ]
    }
   ],
   "source": [
    "Rd['smoking_1']=Rd['smoking']\n",
    "Rd['smoking_1']=Rd['smoking_1'].apply(str)\n",
    "Rd.smoking_1.replace({'1':'Yes','0':'No'},inplace=True)   \n",
    "print(Rd['smoking_1'].value_counts())"
   ]
  },
  {
   "cell_type": "code",
   "execution_count": 25,
   "id": "8e90ef13",
   "metadata": {},
   "outputs": [
    {
     "name": "stdout",
     "output_type": "stream",
     "text": [
      "Alive    203\n",
      "Dead      96\n",
      "Name: Status, dtype: int64\n"
     ]
    }
   ],
   "source": [
    "Rd['Status']=Rd['DEATH_EVENT']\n",
    "Rd['Status']=Rd['Status'].apply(str)\n",
    "Rd.Status.replace({'1':'Dead','0':'Alive'},inplace=True)   \n",
    "print(Rd['Status'].value_counts())"
   ]
  },
  {
   "cell_type": "code",
   "execution_count": 26,
   "id": "4bcc485e",
   "metadata": {},
   "outputs": [
    {
     "name": "stdout",
     "output_type": "stream",
     "text": [
      "136    40\n",
      "137    38\n",
      "140    35\n",
      "134    32\n",
      "138    23\n",
      "139    22\n",
      "135    16\n",
      "132    14\n",
      "141    12\n",
      "142    11\n",
      "133    10\n",
      "130     9\n",
      "145     9\n",
      "144     5\n",
      "131     5\n",
      "143     3\n",
      "127     3\n",
      "128     2\n",
      "129     2\n",
      "146     1\n",
      "114     1\n",
      "116     1\n",
      "126     1\n",
      "125     1\n",
      "124     1\n",
      "121     1\n",
      "148     1\n",
      "Name: serum_sodium_1, dtype: int64\n"
     ]
    }
   ],
   "source": [
    "Rd['serum_sodium_1']=Rd['serum_sodium']\n",
    "Rd.serum_sodium_1.replace({113:114},inplace=True)   \n",
    "print(Rd['serum_sodium_1'].value_counts())"
   ]
  },
  {
   "cell_type": "code",
   "execution_count": 27,
   "id": "01300798",
   "metadata": {},
   "outputs": [
    {
     "name": "stdout",
     "output_type": "stream",
     "text": [
      "114\n"
     ]
    }
   ],
   "source": [
    "print(Rd['serum_sodium_1'].min())"
   ]
  },
  {
   "cell_type": "code",
   "execution_count": 28,
   "id": "9d893242",
   "metadata": {},
   "outputs": [],
   "source": [
    "#task 2.1 \n",
    "from matplotlib import pyplot as plt\n",
    "import numpy as np\n",
    "from matplotlib.pyplot import pie, axis, show"
   ]
  },
  {
   "cell_type": "code",
   "execution_count": 29,
   "id": "d5a6354c",
   "metadata": {
    "scrolled": true
   },
   "outputs": [
    {
     "data": {
      "image/png": "[encoded data removed]",
      "text/plain": [
       "<Figure size 432x288 with 1 Axes>"
      ]
     },
     "metadata": {},
     "output_type": "display_data"
    }
   ],
   "source": [
    "def label_function(val):\n",
    "    return f'{val / 100 * len(Rd):.0f}\\n{val:.0f}%'\n",
    "Rd.groupby('gender').size().plot(kind='pie', autopct=label_function, textprops={'fontsize': 20},\n",
    "                                 colors=['violet', 'lime'])\n",
    "plt.ylabel('Gender', size=22)\n",
    "plt.show()"
   ]
  },
  {
   "cell_type": "code",
   "execution_count": 30,
   "id": "1970d235",
   "metadata": {
    "scrolled": true
   },
   "outputs": [
    {
     "data": {
      "image/png": "[encoded data removed]",
      "text/plain": [
       "<Figure size 432x288 with 1 Axes>"
      ]
     },
     "metadata": {},
     "output_type": "display_data"
    }
   ],
   "source": [
    "def label_function_deadAlive(val):\n",
    "    return f'{val / 100 * len(Rd):.0f}\\n{val:.0f}%'\n",
    "Rd.groupby('Status').size().plot(kind='pie', autopct=label_function_deadAlive, textprops={'fontsize': 20},\n",
    "                                 colors=['gold', 'skyblue'])\n",
    "plt.ylabel('STATUS', size=22)\n",
    "plt.show()"
   ]
  },
  {
   "cell_type": "code",
   "execution_count": 31,
   "id": "03e449dd",
   "metadata": {},
   "outputs": [
    {
     "data": {
      "image/png": "[encoded data removed]",
      "text/plain": [
       "<Figure size 432x288 with 1 Axes>"
      ]
     },
     "metadata": {},
     "output_type": "display_data"
    }
   ],
   "source": [
    "def label_function_SMOKING(val):\n",
    "    return f'{val / 100 * len(Rd):.0f}\\n{val:.0f}%'\n",
    "Rd.groupby('smoking_1').size().plot(kind='pie', autopct=label_function_SMOKING, textprops={'fontsize': 20},\n",
    "                                 colors=['skyblue', 'red'])\n",
    "plt.ylabel('smoking', size=22)\n",
    "plt.show()"
   ]
  },
  {
   "cell_type": "code",
   "execution_count": 32,
   "id": "b385097f",
   "metadata": {},
   "outputs": [],
   "source": [
    "import numpy as np\n",
    "import scipy as sp\n",
    "from scipy import stats"
   ]
  },
  {
   "cell_type": "code",
   "execution_count": null,
   "id": "8e3724d8",
   "metadata": {},
   "outputs": [],
   "source": []
  },
  {
   "cell_type": "code",
   "execution_count": 33,
   "id": "b13eb9b4",
   "metadata": {},
   "outputs": [
    {
     "name": "stdout",
     "output_type": "stream",
     "text": [
      "136.63\n",
      "4.39\n"
     ]
    }
   ],
   "source": [
    "mu = Rd['serum_sodium_1'].mean().round(2)\n",
    "print(mu)\n",
    "sigma = Rd['serum_sodium_1'].std().round(2)\n",
    "print(sigma)"
   ]
  },
  {
   "cell_type": "code",
   "execution_count": 34,
   "id": "244c2d96",
   "metadata": {},
   "outputs": [],
   "source": [
    "# count, bins, ignored = plt.hist(Rd['serum_sodium_1'], 300, normed=True)\n",
    "# plt.plot(bins, 1/(sigma * np.sqrt(2 * np.pi)) *\n",
    "#     np.exp( - (bins - mu)**2 / (2 * sigma**2) ),       linewidth=3, color='y')\n",
    "# plt.show()"
   ]
  },
  {
   "cell_type": "code",
   "execution_count": null,
   "id": "02434736",
   "metadata": {},
   "outputs": [],
   "source": []
  },
  {
   "cell_type": "code",
   "execution_count": 35,
   "id": "6382061b",
   "metadata": {},
   "outputs": [
    {
     "data": {
      "text/plain": [
       "age                         float64\n",
       "anaemia                       int64\n",
       "creatinine_phosphokinase      int64\n",
       "diabetes                      int64\n",
       "ejection_fraction             int64\n",
       "high_blood_pressure           int64\n",
       "platelets                   float64\n",
       "serum_creatinine            float64\n",
       "serum_sodium                  int64\n",
       "sex                           int64\n",
       "smoking                       int64\n",
       "time                          int64\n",
       "DEATH_EVENT                   int64\n",
       "gender                       object\n",
       "smoking_1                    object\n",
       "Status                       object\n",
       "serum_sodium_1                int64\n",
       "dtype: object"
      ]
     },
     "execution_count": 35,
     "metadata": {},
     "output_type": "execute_result"
    }
   ],
   "source": [
    "Rd.dtypes"
   ]
  },
  {
   "cell_type": "code",
   "execution_count": null,
   "id": "af05a181",
   "metadata": {},
   "outputs": [],
   "source": [
    "\n"
   ]
  },
  {
   "cell_type": "code",
   "execution_count": 36,
   "id": "e6c2ede7",
   "metadata": {},
   "outputs": [
    {
     "data": {
      "image/png": "[encoded data removed]",
      "text/plain": [
       "<Figure size 432x288 with 1 Axes>"
      ]
     },
     "metadata": {
      "needs_background": "light"
     },
     "output_type": "display_data"
    }
   ],
   "source": [
    "Rd.serum_sodium_1.plot.density(color='green')\n",
    "plt.title('Density plot for serum_sodium')\n",
    "plt.show()"
   ]
  },
  {
   "cell_type": "code",
   "execution_count": 37,
   "id": "a3358625",
   "metadata": {},
   "outputs": [
    {
     "data": {
      "image/png": "[encoded data removed]",
      "text/plain": [
       "<Figure size 432x288 with 1 Axes>"
      ]
     },
     "metadata": {
      "needs_background": "light"
     },
     "output_type": "display_data"
    }
   ],
   "source": [
    "Rd.platelets.plot.density(color='green')\n",
    "plt.title('Density plot for platelets')\n",
    "plt.show()"
   ]
  },
  {
   "cell_type": "code",
   "execution_count": 38,
   "id": "5524b5d0",
   "metadata": {},
   "outputs": [
    {
     "name": "stdout",
     "output_type": "stream",
     "text": [
      "263.36\n"
     ]
    }
   ],
   "source": [
    "mu = Rd['platelets'].mean().round(2)\n",
    "print(mu)"
   ]
  },
  {
   "cell_type": "code",
   "execution_count": 39,
   "id": "b6d84f6b",
   "metadata": {},
   "outputs": [
    {
     "name": "stdout",
     "output_type": "stream",
     "text": [
      "No     102\n",
      "Yes     92\n",
      "Name: smoking_1, dtype: int64\n",
      "female smoker: 4\n",
      "male smoker : 92\n"
     ]
    },
    {
     "data": {
      "text/plain": [
       "Text(0.5, 1.0, 'smoking ')"
      ]
     },
     "execution_count": 39,
     "metadata": {},
     "output_type": "execute_result"
    },
    {
     "data": {
      "image/png": "[encoded data removed]",
      "text/plain": [
       "<Figure size 432x288 with 1 Axes>"
      ]
     },
     "metadata": {
      "needs_background": "light"
     },
     "output_type": "display_data"
    }
   ],
   "source": [
    "#Check the number of female/male passengers\n",
    "patient_seen=Rd['gender'].value_counts()\n",
    "\n",
    "#creating masks for male/female\n",
    "mask_f=Rd['gender']=='female'\n",
    "mask_m=Rd['gender']=='male'\n",
    "#print(mask_m.value_counts())\n",
    "#using the masks to select the male/females who saw the movies\n",
    "f_seen=Rd.loc[mask_f,'smoking_1'].value_counts()\n",
    "m_seen=Rd.loc[mask_m,'smoking_1'].value_counts()\n",
    "print(m_seen)\n",
    "print('female smoker:', f_seen[1])\n",
    "print('male smoker :', m_seen[1])\n",
    "\n",
    "#calculating the seen rate based on gender\n",
    "rate=[f_seen[1],m_seen[1]]\n",
    "\n",
    "#ploting the rate as bar graph\n",
    "plt.bar(list(range(2)),rate,color='purple',align='center')\n",
    "plt.xticks(list(range(2)),['FEMALE','MALE'])\n",
    "plt.ylabel('number of people')\n",
    "plt.xlabel('Gender')\n",
    "plt.title('smoking ')"
   ]
  },
  {
   "cell_type": "code",
   "execution_count": 40,
   "id": "b3e3b416",
   "metadata": {},
   "outputs": [
    {
     "name": "stdout",
     "output_type": "stream",
     "text": [
      "              age  anaemia  creatinine_phosphokinase  diabetes  \\\n",
      "gender                                                           \n",
      "female   6276.667       52                     50062        55   \n",
      "male    11912.667       77                    123908        70   \n",
      "\n",
      "        ejection_fraction  high_blood_pressure  platelets  serum_creatinine  \\\n",
      "gender                                                                        \n",
      "female               4249                   44   29396.24            145.33   \n",
      "male                 7138                   61   49347.86            271.44   \n",
      "\n",
      "        serum_sodium  sex  smoking   time  DEATH_EVENT  serum_sodium_1  \n",
      "gender                                                                  \n",
      "female         14363    0        4  13850           34           14363  \n",
      "male           26488  194       92  25098           62           26489  \n"
     ]
    }
   ],
   "source": [
    "lol = Rd.groupby('gender').sum()\n",
    "print(lol)"
   ]
  },
  {
   "cell_type": "code",
   "execution_count": 41,
   "id": "e420cf98",
   "metadata": {},
   "outputs": [
    {
     "name": "stdout",
     "output_type": "stream",
     "text": [
      "                 age  anaemia  creatinine_phosphokinase  diabetes  \\\n",
      "smoking_1                                                           \n",
      "No         12318.334       95                    117786        95   \n",
      "Yes         5871.000       34                     56184        30   \n",
      "\n",
      "           ejection_fraction  high_blood_pressure  platelets  \\\n",
      "smoking_1                                                      \n",
      "No                      7842                   75   53076.86   \n",
      "Yes                     3545                   30   25667.24   \n",
      "\n",
      "           serum_creatinine  serum_sodium  sex  smoking   time  DEATH_EVENT  \\\n",
      "smoking_1                                                                     \n",
      "No                   286.91         27732  102        0  26690           66   \n",
      "Yes                  129.86         13119   92       96  12258           30   \n",
      "\n",
      "           serum_sodium_1  \n",
      "smoking_1                  \n",
      "No                  27732  \n",
      "Yes                 13120  \n"
     ]
    }
   ],
   "source": [
    "graph = Rd.groupby('smoking_1').sum()\n",
    "print(graph)"
   ]
  },
  {
   "cell_type": "code",
   "execution_count": 42,
   "id": "9a0b0c03",
   "metadata": {},
   "outputs": [
    {
     "data": {
      "text/plain": [
       "Text(0.5, 1.0, 'smoking ')"
      ]
     },
     "execution_count": 42,
     "metadata": {},
     "output_type": "execute_result"
    },
    {
     "data": {
      "image/png": "[encoded data removed]",
      "text/plain": [
       "<Figure size 432x288 with 1 Axes>"
      ]
     },
     "metadata": {
      "needs_background": "light"
     },
     "output_type": "display_data"
    }
   ],
   "source": [
    "rate=graph['DEATH_EVENT']\n",
    "#ploting the rate as bar graph\n",
    "plt.bar(list(range(2)),rate,color='purple',align='center')\n",
    "plt.xticks(list(range(2)),['Non Smokers','Smokers'])\n",
    "plt.ylabel('number of people')\n",
    "plt.xlabel('Smoker')\n",
    "plt.title('smoking ')"
   ]
  },
  {
   "cell_type": "code",
   "execution_count": 50,
   "id": "1071c270",
   "metadata": {},
   "outputs": [
    {
     "name": "stdout",
     "output_type": "stream",
     "text": [
      "      age  anaemia  creatinine_phosphokinase  diabetes  ejection_fraction  \\\n",
      "0    75.0        0                       582         0                 20   \n",
      "1    55.0        0                      7861         0                 38   \n",
      "2    65.0        0                       146         0                 20   \n",
      "3    50.0        1                       111         0                 20   \n",
      "5    90.0        1                        47         0                 40   \n",
      "..    ...      ...                       ...       ...                ...   \n",
      "292  52.0        0                       190         1                 38   \n",
      "293  63.0        1                       103         1                 35   \n",
      "294  62.0        0                        61         1                 38   \n",
      "297  45.0        0                      2413         0                 38   \n",
      "298  50.0        0                       196         0                 45   \n",
      "\n",
      "     high_blood_pressure  platelets  serum_creatinine  serum_sodium  sex  \\\n",
      "0                      1     265.00               1.9           130    1   \n",
      "1                      0     263.36               1.1           136    1   \n",
      "2                      0     162.00               1.3           129    1   \n",
      "3                      0     210.00               1.9           137    1   \n",
      "5                      1     204.00               2.1           132    1   \n",
      "..                   ...        ...               ...           ...  ...   \n",
      "292                    0     382.00               1.0           140    1   \n",
      "293                    0     179.00               0.9           136    1   \n",
      "294                    1     155.00               1.1           143    1   \n",
      "297                    0     140.00               1.4           140    1   \n",
      "298                    0     395.00               1.6           136    1   \n",
      "\n",
      "     smoking  time  DEATH_EVENT gender smoking_1 Status  serum_sodium_1  \n",
      "0          0     4            1   male        No   Dead             130  \n",
      "1          0     6            1   male        No   Dead             136  \n",
      "2          1     7            1   male       Yes   Dead             129  \n",
      "3          0     7            1   male        No   Dead             137  \n",
      "5          1     8            1   male       Yes   Dead             132  \n",
      "..       ...   ...          ...    ...       ...    ...             ...  \n",
      "292        1   258            0   male       Yes  Alive             140  \n",
      "293        1   270            0   male       Yes  Alive             136  \n",
      "294        1   270            0   male       Yes  Alive             143  \n",
      "297        1   280            0   male       Yes  Alive             140  \n",
      "298        1   285            0   male       Yes  Alive             136  \n",
      "\n",
      "[194 rows x 17 columns]\n",
      "      age  anaemia  creatinine_phosphokinase  diabetes  ejection_fraction  \\\n",
      "4    65.0        1                       160         1                 20   \n",
      "8    65.0        0                       157         0                 65   \n",
      "14   49.0        1                        80         0                 30   \n",
      "18   70.0        1                       125         0                 25   \n",
      "19   48.0        1                       582         1                 55   \n",
      "..    ...      ...                       ...       ...                ...   \n",
      "288  65.0        0                       892         1                 35   \n",
      "289  90.0        1                       337         0                 38   \n",
      "290  45.0        0                       615         1                 55   \n",
      "295  55.0        0                      1820         0                 38   \n",
      "296  45.0        0                      2060         1                 60   \n",
      "\n",
      "     high_blood_pressure  platelets  serum_creatinine  serum_sodium  sex  \\\n",
      "4                      0     327.00               2.7           116    0   \n",
      "8                      0     263.36               1.5           138    0   \n",
      "14                     1     427.00               1.0           138    0   \n",
      "18                     1     237.00               1.0           140    0   \n",
      "19                     0      87.00               1.9           121    0   \n",
      "..                   ...        ...               ...           ...  ...   \n",
      "288                    0     263.36               1.1           142    0   \n",
      "289                    0     390.00               0.9           144    0   \n",
      "290                    0     222.00               0.8           141    0   \n",
      "295                    0     270.00               1.2           139    0   \n",
      "296                    0     742.00               0.8           138    0   \n",
      "\n",
      "     smoking  time  DEATH_EVENT  gender smoking_1 Status  serum_sodium_1  \n",
      "4          0     8            1  female        No   Dead             116  \n",
      "8          0    10            1  female        No   Dead             138  \n",
      "14         0    12            0  female        No  Alive             138  \n",
      "18         0    15            1  female        No   Dead             140  \n",
      "19         0    15            1  female        No   Dead             121  \n",
      "..       ...   ...          ...     ...       ...    ...             ...  \n",
      "288        0   256            0  female        No  Alive             142  \n",
      "289        0   256            0  female        No  Alive             144  \n",
      "290        0   257            0  female        No  Alive             141  \n",
      "295        0   271            0  female        No  Alive             139  \n",
      "296        0   278            0  female        No  Alive             138  \n",
      "\n",
      "[105 rows x 17 columns]\n"
     ]
    }
   ],
   "source": [
    "male = Rd.loc[Rd['gender']=='male']\n",
    "print(male)\n",
    "female = Rd.loc[Rd['gender']=='female']\n",
    "print(female)"
   ]
  },
  {
   "cell_type": "code",
   "execution_count": 51,
   "id": "4ce2d227",
   "metadata": {},
   "outputs": [
    {
     "name": "stdout",
     "output_type": "stream",
     "text": [
      "0      265.00\n",
      "1      263.36\n",
      "2      162.00\n",
      "3      210.00\n",
      "5      204.00\n",
      "        ...  \n",
      "292    382.00\n",
      "293    179.00\n",
      "294    155.00\n",
      "297    140.00\n",
      "298    395.00\n",
      "Name: platelets, Length: 194, dtype: float64\n",
      "4      327.00\n",
      "8      263.36\n",
      "14     427.00\n",
      "18     237.00\n",
      "19      87.00\n",
      "        ...  \n",
      "288    263.36\n",
      "289    390.00\n",
      "290    222.00\n",
      "295    270.00\n",
      "296    742.00\n",
      "Name: platelets, Length: 105, dtype: float64\n"
     ]
    }
   ],
   "source": [
    "x = male['platelets']\n",
    "#print(x)\n",
    "y = female['platelets']\n",
    "#print(y)"
   ]
  },
  {
   "cell_type": "code",
   "execution_count": 58,
   "id": "1074b499",
   "metadata": {},
   "outputs": [],
   "source": [
    "import plotly.express as px\n",
    "import seaborn as sns"
   ]
  },
  {
   "cell_type": "code",
   "execution_count": 60,
   "id": "c9c09990",
   "metadata": {},
   "outputs": [
    {
     "data": {
      "text/plain": [
       "<AxesSubplot:xlabel='age', ylabel='platelets'>"
      ]
     },
     "execution_count": 60,
     "metadata": {},
     "output_type": "execute_result"
    },
    {
     "data": {
      "image/png": "[encoded data removed]",
      "text/plain": [
       "<Figure size 432x288 with 1 Axes>"
      ]
     },
     "metadata": {
      "needs_background": "light"
     },
     "output_type": "display_data"
    }
   ],
   "source": [
    "sns.scatterplot(x = \"age\", y = \"platelets\", data = Rd)"
   ]
  },
  {
   "cell_type": "code",
   "execution_count": 62,
   "id": "b8559135",
   "metadata": {},
   "outputs": [
    {
     "data": {
      "text/plain": [
       "<AxesSubplot:xlabel='age', ylabel='serum_creatinine'>"
      ]
     },
     "execution_count": 62,
     "metadata": {},
     "output_type": "execute_result"
    },
    {
     "data": {
      "image/png": "[encoded data removed]",
      "text/plain": [
       "<Figure size 432x288 with 1 Axes>"
      ]
     },
     "metadata": {
      "needs_background": "light"
     },
     "output_type": "display_data"
    }
   ],
   "source": [
    "sns.scatterplot(x = \"age\", y = \"serum_creatinine\", data = Rd)"
   ]
  },
  {
   "cell_type": "code",
   "execution_count": 63,
   "id": "2370ce72",
   "metadata": {},
   "outputs": [
    {
     "data": {
      "text/plain": [
       "<AxesSubplot:xlabel='age', ylabel='serum_sodium_1'>"
      ]
     },
     "execution_count": 63,
     "metadata": {},
     "output_type": "execute_result"
    },
    {
     "data": {
      "image/png": "[encoded data removed]",
      "text/plain": [
       "<Figure size 432x288 with 1 Axes>"
      ]
     },
     "metadata": {
      "needs_background": "light"
     },
     "output_type": "display_data"
    }
   ],
   "source": [
    "sns.scatterplot(x = \"age\", y = \"serum_sodium_1\", data = Rd)"
   ]
  },
  {
   "cell_type": "code",
   "execution_count": null,
   "id": "22fc1cf4",
   "metadata": {},
   "outputs": [],
   "source": []
  }
 ],
 "metadata": {
  "kernelspec": {
   "display_name": "Python 3",
   "language": "python",
   "name": "python3"
  },
  "language_info": {
   "codemirror_mode": {
    "name": "ipython",
    "version": 3
   },
   "file_extension": ".py",
   "mimetype": "text/x-python",
   "name": "python",
   "nbconvert_exporter": "python",
   "pygments_lexer": "ipython3",
   "version": "3.8.5"
  }
 },
 "nbformat": 4,
 "nbformat_minor": 5
}
